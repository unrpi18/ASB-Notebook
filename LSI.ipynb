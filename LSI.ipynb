{
 "cells": [
  {
   "cell_type": "markdown",
   "metadata": {},
   "source": [
    "### Linear shift-invariant system\n",
    "![](LSI.png)"
   ]
  },
  {
   "cell_type": "markdown",
   "metadata": {},
   "source": [
    "1. Calculate the impulse response $u(x)$ of the system\n",
    "\n",
    "$k(x) = g(x) * \\underbrace{(\\alpha_{1} h_{1}(x) * h_{2}(x) + \\alpha_{2} h_{2}(x) * h_{3}(x) + \\alpha_{3} h_{1}(x) * h_{3}(x))}_{u(x)}$\n",
    "\n",
    "\n",
    "![](LSI_eg.png)\n",
    "\n",
    "\n",
    "> Direct cascade: $h_1(x) \\rightarrow h_2(x) = h_1(x) * h_2(x)$\n",
    ">\n",
    "> Parallel: $h_1(x) + h_2(x)$\n",
    " "
   ]
  },
  {
   "cell_type": "markdown",
   "metadata": {},
   "source": [
    "2. Calculate the transfer function $U(f)$\n",
    "\n",
    "$U(f) = F\\{u(x)\\} = \\alpha_{1} H_{1}(f) H_{2}(f) + \\alpha_{2} H_{2}(f) H_{3}(f) + \\alpha_{3} H_{1}(f) H_{3}(f)$\n",
    "\n",
    "\n",
    "$U(f) = \\left\\{\\begin{matrix}\n",
    "\\frac{\\alpha}{2},f=0 \\\\\n",
    " \\frac{1}{4}, f=f_1\\\\\n",
    "\\frac{\\alpha_1}{2}, f \\rightarrow \\infty\n",
    "\\end{matrix}\\right. $\n",
    "\n",
    "\n"
   ]
  },
  {
   "cell_type": "markdown",
   "metadata": {},
   "source": [
    "### HP, LP, BP, BS filters\n",
    "- HP(Hochpass): $f \\rightarrow 0 = 0, f \\rightarrow \\infty = 1$\n",
    "- LP(Tiefpass): $f \\rightarrow 0 = 1, f \\rightarrow \\infty = 0$\n",
    "- BP(Bandpass): $f \\rightarrow 0 = 0, f \\rightarrow \\infty = 0, f = f_1 > 0$\n",
    "- BS(Bandstop): $f \\rightarrow 0 = 1, f \\rightarrow \\infty = 1, f = f_1 = 0$\n",
    "\n",
    "\n"
   ]
  }
 ],
 "metadata": {
  "language_info": {
   "name": "python"
  }
 },
 "nbformat": 4,
 "nbformat_minor": 2
}
