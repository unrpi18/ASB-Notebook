{
 "cells": [
  {
   "cell_type": "markdown",
   "metadata": {},
   "source": [
    "Histogram Stretching Formula: \n",
    "$\\gamma(g) = \\frac{(g - g_{min})(g_{new\\_max} - g_{new\\_min})}{g_{max} - g_{min}} + g_{new min}$\n",
    "\n",
    "where,\n",
    "\n",
    "- $g_{min}$ is the minimum pixel value in the original image.\n",
    "- $g_{max}$ is the maximum pixel value in the original image.\n",
    "- $g_{new\\_min}$ is the minimum pixel value in the target range.\n",
    "- $g_{new\\_max}$ is the maximum pixel value in the target range.\n",
    "\n",
    "\n"
   ]
  },
  {
   "cell_type": "markdown",
   "metadata": {},
   "source": [
    "Given that a matrix $A$ : $\\begin{bmatrix} 2 & 4 & 1 & 1 \\\\ 2 & 3 & 3 & 3 \\\\ 5 & 1 & 3 & 5 \\\\ 3 & 1 & 2 & 1 \\end{bmatrix}$ and the target range is [0, 8]\n",
    "\n",
    "we know that the minimum pixel value ($g_{min}$) is 1 and the maximum pixel value ($g_{max}$) is 5.\n",
    "\n",
    "\n",
    "then we can calculate the new pixel values for each element in the matrix $A$ using the formula:\n",
    "\n",
    "$\\gamma(g) = \\frac{(g - g_{min})(g_{new\\_max} - g_{new\\_min})}{g_{max} - g_{min}} + g_{new min}$\n",
    "\n",
    "i.e., \n",
    "\n",
    "$\\begin{align}\n",
    "\\gamma(g) = \\frac{(g - 1)(8 - 0)}{5 - 1} + 0 \\\\\n",
    "         &= \\frac{(g - 1)(8)}{4} + 0 \\\\\n",
    "         &= \\frac{8g - 8}{4} \\\\\n",
    "         &= 2(g - 1)\n",
    "\\end{align}$\n",
    "\n",
    "\n",
    "\n"
   ]
  },
  {
   "cell_type": "markdown",
   "metadata": {},
   "source": [
    "Apply the formula to each element in the matrix $A$ to get the new pixel values:\n",
    "\n",
    "$\\begin{bmatrix} 2 & 4 & 1 & 1 \\\\ 2 & 3 & 3 & 3 \\\\ 5 & 1 & 3 & 5 \\\\ 3 & 1 & 2 & 1 \\end{bmatrix}$\n",
    "\n",
    "\n",
    "for example, the new pixel value for the element in the first row and first column is:\n",
    "\n",
    "$\\gamma(1) = 2(1 - 1) = 0$\n",
    "\n",
    "$\\gamma(2) = 2(2 - 1) = 2$\n",
    "\n",
    "$\\gamma(3) = 2(3 - 1) = 4$\n",
    "\n",
    "$\\gamma(4) = 2(4 - 1) = 6$\n",
    "\n",
    "$\\gamma(5) = 2(5 - 1) = 8$\n",
    "\n",
    "Thus, the new pixel values for the matrix $A'$ are:\n",
    "\n",
    "$\\begin{bmatrix} 2 & 6 & 0 & 0 \\\\ 2 & 4 & 4 & 4 \\\\ 8 & 0 & 4 & 8 \\\\ 4 & 0 & 2 & 0 \\end{bmatrix}$"
   ]
  }
 ],
 "metadata": {
  "language_info": {
   "name": "python"
  }
 },
 "nbformat": 4,
 "nbformat_minor": 2
}
