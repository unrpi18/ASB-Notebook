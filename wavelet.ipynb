{
 "cells": [
  {
   "cell_type": "markdown",
   "metadata": {},
   "source": [
    "Given a Mother Wavelet $\\psi(x) = \\sin(2x)\\exp(-2x^2)$\n",
    "\n",
    "\n",
    "\n"
   ]
  },
  {
   "cell_type": "markdown",
   "metadata": {},
   "source": [
    "### three transformations\n",
    "1. scale wavelet $\\psi_{s}(x) = \\frac{1}{\\sqrt{s}}\\psi(\\frac{x}{s})$\n",
    "2. shift wavelet $\\psi_{\\tau}(x) = \\psi(x-\\tau)$\n",
    "3. combine scale and shift wavelet $\\psi_{s,\\tau}(x) = \\frac{1}{\\sqrt{s}}\\psi(\\frac{x-\\tau}{s})$\n",
    "\n",
    "\n",
    "\n",
    "\n",
    "\n",
    "\n",
    "\n",
    "\n",
    "\n"
   ]
  },
  {
   "cell_type": "markdown",
   "metadata": {},
   "source": [
    "### Fourier transform\n",
    "\n",
    "#### preliminaries\n",
    "- $\\delta(x - x_{0}) u(x) = u(x - x_{0})$ (almost the most important property of delta function)\n",
    "- $\\mathcal{F}[\\sin(2x)] = \\frac{1}{2j}(\\delta(f - \\frac{1}{\\pi}) - \\delta(f + \\frac{1}{\\pi}))$\n",
    "- $\\mathcal{F}[\\exp(-2x^2)] = \\sqrt{\\frac{\\pi}{2}} \\exp(-\\frac{\\pi^2}{2}f^2)$\n",
    "\n",
    "\n",
    "1. Calculate the Fourier transform of $\\psi(x) = \\sin(2x)\\exp(-2x^2)$\n",
    "\n",
    "$$\n",
    "\\begin{align}\n",
    "\\Psi(f) &= \\mathcal{F}[\\sin(2x)] * \\mathcal{F}[\\exp(-2x^2)] \\\\\n",
    "       &= \\frac{1}{2j}\\sqrt{\\frac{\\pi}{2}} (exp(-\\frac{\\pi^2}{2}(f-\\frac{1}{\\pi})^2) - exp(-\\frac{\\pi^2}{2}(f+\\frac{1}{\\pi})^2))\n",
    "\\end{align}\n",
    "$$\n",
    "> the delta function is the most important part in the Fourier transform of $\\psi(x)$\n",
    "2. Calculate the Fourier transform of $\\psi_{s}(x) = \\frac{1}{\\sqrt{s}}\\psi(\\frac{x}{s})$\n",
    "- $g(kx) \\xrightarrow{Fourier} \\frac{1}{|k|}G(\\frac{f}{k})$\n",
    "$$\n",
    "\\begin{align}\n",
    "\\Psi_{s}(f) &= \\mathcal{F}[\\psi_{s}(x)] \\\\\n",
    "       &= \\mathcal{F}[\\frac{1}{\\sqrt{s}}\\psi(\\frac{x}{s})] \\\\\n",
    "       &= \\frac{1}{\\sqrt{s}} \\mathcal{F}[\\psi(\\frac{x}{s})] \\\\\n",
    "       & = \\frac{1}{\\sqrt{s}} |\\frac{1}{s}|^{-1} \\Psi(\\frac{f}{\\frac{1}{s}}) \\\\\n",
    "       &= \\frac{1}{\\sqrt{s}} s \\Psi(fs) \\\\\n",
    "       &= \\sqrt{s} \\Psi(fs) \\\\\n",
    "       & = \\frac{1}{2j}\\sqrt{\\frac{s\\pi}{2}} (exp(-\\frac{\\pi^2}{2}(sf-\\frac{1}{\\pi})^2) - exp(-\\frac{\\pi^2}{2}(sf+\\frac{1}{\\pi})^2))\n",
    "\\end{align}\n",
    "$$"
   ]
  },
  {
   "cell_type": "markdown",
   "metadata": {},
   "source": [
    "### Condition for valid wavelet\n",
    "\n",
    "1. zero-mean: $\\int_{-\\infty}^{\\infty} \\psi(x) dx = 0 \\equiv \\Psi(0) = 0$\n",
    "\n",
    "if the zero-mean condition is not satisfied, the wavelet is not valid.\n"
   ]
  }
 ],
 "metadata": {
  "language_info": {
   "name": "python"
  }
 },
 "nbformat": 4,
 "nbformat_minor": 2
}
